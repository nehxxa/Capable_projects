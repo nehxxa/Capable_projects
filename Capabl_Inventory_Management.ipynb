{
  "nbformat": 4,
  "nbformat_minor": 0,
  "metadata": {
    "colab": {
      "provenance": [],
      "gpuType": "T4",
      "authorship_tag": "ABX9TyORVFrJ/R0g/+jBskG5j3/t",
      "include_colab_link": true
    },
    "kernelspec": {
      "name": "python3",
      "display_name": "Python 3"
    },
    "language_info": {
      "name": "python"
    },
    "accelerator": "GPU"
  },
  "cells": [
    {
      "cell_type": "markdown",
      "metadata": {
        "id": "view-in-github",
        "colab_type": "text"
      },
      "source": [
        "<a href=\"https://colab.research.google.com/github/nehxxa/Capable_projects/blob/main/Capabl_Inventory_Management.ipynb\" target=\"_parent\"><img src=\"https://colab.research.google.com/assets/colab-badge.svg\" alt=\"Open In Colab\"/></a>"
      ]
    },
    {
      "cell_type": "markdown",
      "source": [
        "# Inventory management system"
      ],
      "metadata": {
        "id": "NyvurcSElIQH"
      }
    },
    {
      "cell_type": "markdown",
      "source": [
        "**Description**: The Inventory Management System is designed to help businesses keep track of their product inventory efficiently. It allows users to add new products, remove existing products, and display the current inventory status. Features: Add Product Functionality: If the product already exists in the inventory: Display: \"Product '{name}' already exists in inventory.\" If the product is added successfully: Display: \"Product '{name}' added successfully.\" Remove Product Functionality: If the product is removed successfully: Display: \"Product '{name}' removed successfully.\" If the product is not found in the inventory: Display: \"Product not found in inventory.\" Display Inventory Functionality: If the inventory is empty: Display: \"Inventory is empty.\" If the inventory contains products: Display each product along with its quantity: Format: \"Product: {name}, Quantity: {quantity}\""
      ],
      "metadata": {
        "id": "KhX-FRdklU8S"
      }
    },
    {
      "cell_type": "markdown",
      "source": [
        "# Adding products to the dictionary"
      ],
      "metadata": {
        "id": "-UOxUVYIlgm_"
      }
    },
    {
      "cell_type": "code",
      "source": [
        "inventory = {}\n",
        "\n",
        "def add_product(name, quantity):\n",
        "    if name in inventory:\n",
        "        print(f\"Product '{inventory[name]}' already exists in inventory.\")\n",
        "    else:\n",
        "        inventory[name] = quantity\n",
        "        print(f\"Product '{name}' added successfully.\")\n"
      ],
      "metadata": {
        "id": "VYUQazDNlzhO"
      },
      "execution_count": 11,
      "outputs": []
    },
    {
      "cell_type": "markdown",
      "source": [
        "# Function to remove the products"
      ],
      "metadata": {
        "id": "SvhvT5W9l2nD"
      }
    },
    {
      "cell_type": "code",
      "source": [
        "def remove_product(name):\n",
        "    if name in inventory:\n",
        "        del inventory[name]\n",
        "        print(f\"Product '{name}' removed successfully.\")\n",
        "    else:\n",
        "        print(\"Product not found in inventory.\")"
      ],
      "metadata": {
        "id": "9W3ybxBQnNaj"
      },
      "execution_count": 12,
      "outputs": []
    },
    {
      "cell_type": "markdown",
      "source": [
        "# Function to display the inventory"
      ],
      "metadata": {
        "id": "2oYxMWeeqhOw"
      }
    },
    {
      "cell_type": "code",
      "source": [
        "def display_inventory():\n",
        "    if not inventory:\n",
        "        print(\"Inventory is empty.\")\n",
        "    else:\n",
        "        for name, quantity in inventory.items():\n",
        "            print(\"Inventory:\")\n",
        "            print(f\"Product: {name}, Quantity: {quantity}\")"
      ],
      "metadata": {
        "id": "JXbI7T6Pqjly"
      },
      "execution_count": 13,
      "outputs": []
    },
    {
      "cell_type": "markdown",
      "source": [
        "print(add_product(input(), int(input())))\n",
        "print(add_product(input(), int(input())))\n",
        "print(remove_product(input()))\n",
        "print(display_inventory())"
      ],
      "metadata": {
        "id": "M0joGEX1rekj"
      }
    },
    {
      "cell_type": "code",
      "source": [
        "add_product(input(\"Enter product name: \"), int(input(\"Enter product quantity: \")))\n",
        "add_product(input(\"Enter product name: \"), int(input(\"Enter product quantity: \")))\n",
        "remove_product(input(\"Enter product name to remove: \"))\n",
        "display_inventory()\n"
      ],
      "metadata": {
        "id": "yzrCU14csSil",
        "colab": {
          "base_uri": "https://localhost:8080/"
        },
        "outputId": "d16890d9-c2eb-44d4-de90-195f71982f23"
      },
      "execution_count": 14,
      "outputs": [
        {
          "output_type": "stream",
          "name": "stdout",
          "text": [
            "Enter product nameshirt\n",
            "Enter product quantity10\n",
            "Product 'shirt' added successfully.\n",
            "Enter product nametrouser\n",
            "Enter product quantity50\n",
            "Product 'trouser' added successfully.\n",
            "Enter product name to removeshirt\n",
            "Product 'shirt' removed successfully.\n",
            "Inventory:\n",
            "Product: trouser, Quantity: 50\n"
          ]
        }
      ]
    },
    {
      "cell_type": "code",
      "source": [],
      "metadata": {
        "id": "TVhWkHZ5vbmK"
      },
      "execution_count": null,
      "outputs": []
    }
  ]
}